{
  "nbformat": 4,
  "nbformat_minor": 0,
  "metadata": {
    "colab": {
      "provenance": []
    },
    "kernelspec": {
      "name": "python3",
      "display_name": "Python 3"
    },
    "language_info": {
      "name": "python"
    }
  },
  "cells": [
    {
      "cell_type": "markdown",
      "source": [
        "1. What are data structures, and why are they important?\n",
        "   \n",
        "   data structures are frameworks provided by the language to efficiently organize, store, and manipulate data. Python comes with a rich set of built-in data structures and the ability to implement custom ones, making it a powerful tool for solving various computational problems.\n",
        "\n",
        "   build in data structures in python:\n",
        "      -  lists\n",
        "      -  Tuples\n",
        "      -  Sets\n",
        "      -  Dictionaries\n",
        "      -  Strings"
      ],
      "metadata": {
        "id": "9C-50-_ExK-b"
      }
    },
    {
      "cell_type": "markdown",
      "source": [
        "2.Explain the difference between mutable and immutable data types with examples?\n",
        "\n",
        "   Mutable datatypes:\n",
        "             Objects whose values can be changed or modified after creation.\n",
        "             Examples: Lists, Dictionaries, Sets\n",
        "  \n",
        "   Immutable datatypes:\n",
        "            Objects whose values cannot be changed after creation.\n",
        "            Examples: Strings, Tuples"
      ],
      "metadata": {
        "id": "e72xSxVfyDYi"
      }
    },
    {
      "cell_type": "markdown",
      "source": [
        "3.What are the main differences between lists and tuples in Python?\n",
        "\n",
        "   \n",
        "Lists and tuples in Python are both used to store collections of items, but the key difference is that lists are mutable (can be changed), while tuples are immutable (cannot be changed). Lists are written with square brackets [ ], and tuples use parentheses ( ). Lists are better for situations where you need to add, remove, or modify items, while tuples are faster, use less memory, and are good for fixed data like coordinates. Tuples can also be used as keys in dictionaries because they are hashable, but lists cannot. Choose lists for flexibility and tuples for data that should stay constant"
      ],
      "metadata": {
        "id": "a1L6gJG4zGw3"
      }
    },
    {
      "cell_type": "markdown",
      "source": [
        "4. Describe how dictionaries store data?\n",
        "   \n",
        "\n",
        "Dictionaries in Python store data as key-value pairs in a hash table, where keys are unique and hashed to determine where their values are stored in memory. This makes accessing, adding, or updating data very fast. Keys must be immutable (like strings or numbers), but values can be any type."
      ],
      "metadata": {
        "id": "VzitVDA_zvvt"
      }
    },
    {
      "cell_type": "markdown",
      "source": [
        "5.Why might you use a set instead of a list in Python?\n",
        "\n",
        "   use a set instead of a list in Python when you need to store unique elements and perform operations like checking membership, union, or intersection efficiently. Sets automatically eliminate duplicates and provide faster lookups due to their implementation as hash tables. However, sets are unordered, meaning they do not maintain the order of elements, so if you need to preserve the order or allow duplicates, a list would be more appropriate. Sets are ideal for cases where uniqueness and performance in operations like membership testing are important."
      ],
      "metadata": {
        "id": "_Jby02Ku0PUE"
      }
    },
    {
      "cell_type": "markdown",
      "source": [
        "6. What is a string in Python, and how is it different from a list?\n",
        "\n",
        "   A string in Python is a sequence of characters enclosed in quotes and is immutable, meaning its value cannot be changed after creation. It is mainly used for handling text. A list, on the other hand, is a mutable collection that can store various types of elements, such as numbers or strings, and allows modification (e.g., adding, removing, or changing items) after creation. The main difference is that strings are for handling text and cannot be altered, while lists can store multiple types of data and can be changed as needed."
      ],
      "metadata": {
        "id": "601DR4LV06mN"
      }
    },
    {
      "cell_type": "markdown",
      "source": [
        "7. How do tuples ensure data integrity in Python?\n",
        "\n",
        "Tuples ensure data integrity in Python by being immutable, meaning once created, their elements cannot be changed. This immutability prevents modifications like additions, deletions, or updates to the tuple's contents, making them suitable for storing fixed, reliable data.\n",
        "\n",
        "Since tuples are hashable, they can be used as keys in dictionaries or elements in sets, ensuring data remains consistent and unchanged across different uses. This characteristic helps maintain data integrity, as the data structure itself cannot be altered accidentally or intentionally"
      ],
      "metadata": {
        "id": "YTcZpjxG1XB2"
      }
    },
    {
      "cell_type": "markdown",
      "source": [
        "8.What is a hash table, and how does it relate to dictionaries in Python?\n",
        "\n",
        "\n",
        "   \n",
        "A hash table is a data structure that stores data in key-value pairs and uses a hash function to quickly find where each value is stored by calculating a unique index for each key. In Python, dictionaries are implemented using hash tables, which means when you add a key-value pair to a dictionary, the key is hashed, and the value is stored at the resulting index. This allows for fast access to values based on their keys, making dictionaries efficient for lookups and other operations."
      ],
      "metadata": {
        "id": "lmr282GJ2AKQ"
      }
    },
    {
      "cell_type": "markdown",
      "source": [
        "9. Can lists contain different data types in Python?\n",
        "\n",
        "   Yes, lists in Python can contain different data types. A single list can store items of various types, including integers, strings, floats, and even other lists or objects. This flexibility allows you to mix and match data types within the same list\n",
        "   \n",
        "\n",
        "    "
      ],
      "metadata": {
        "id": "l_g_Fr1g2SLS"
      }
    },
    {
      "cell_type": "markdown",
      "source": [
        "10.Explain why strings are immutable in Python?\n",
        "\n",
        "  Strings are immutable in Python because they are designed to be efficient and safe. Since strings are often used for handling text, making them immutable allows Python to optimize memory usage and performance by reusing string objects instead of creating new ones each time a string is modified. This also prevents accidental changes to string data, ensuring that the data remains consistent throughout the program.\n",
        "\n",
        "The immutability of strings ensures that once a string is created, its content cannot be altered, which helps in maintaining data integrity and allows strings to be hashable (usable as dictionary keys or set elements). This design choice also makes strings thread-safe, as their values cannot be changed by other parts of the program while being accessed."
      ],
      "metadata": {
        "id": "6GY_faxR2dAf"
      }
    },
    {
      "cell_type": "markdown",
      "source": [
        "11.What advantages do dictionaries offer over lists for certain tasks?\n",
        "\n",
        "  Dictionaries offer significant advantages over lists for tasks that require fast lookups, key-value pairing, and ensuring uniqueness of data. They use hash tables, allowing for O(1) average time complexity for searching by key, making them much faster for accessing or modifying values compared to lists, which require sequential searching. Dictionaries store data as unique key-value pairs, making them ideal for mapping relationships (e.g., storing a person's name and age). Additionally, dictionaries automatically prevent duplicate keys, while lists can have duplicate values. This makes dictionaries more efficient for tasks like fast updates, lookups, and ensuring unique associations."
      ],
      "metadata": {
        "id": "35ZRCtg424gQ"
      }
    },
    {
      "cell_type": "markdown",
      "source": [
        "12.Describe a scenario where using a tuple would be preferable over a list?\n",
        "  \n",
        "  A scenario where using a tuple would be preferable over a list is when you need to store a fixed collection of values that should not be modified, such as coordinates in a geographic system. For example, if you're storing the latitude and longitude of a specific location, you want to ensure that these values remain constant throughout the program to avoid accidental changes. Using a tuple guarantees that the data will remain unchanged because tuples are immutable, whereas lists could be modified, which could lead to errors in critical data like geographical coordinates."
      ],
      "metadata": {
        "id": "zCoWIBKV3Lzg"
      }
    },
    {
      "cell_type": "markdown",
      "source": [
        "13.How do sets handle duplicate values in Python?\n",
        "\n",
        "   In Python, sets automatically remove duplicate values. When you add an element to a set, it only keeps unique elements. If you attempt to add a duplicate value, the set will ignore it and not add it again. This behavior ensures that a set contains only distinct items, making it useful for situations where you want to eliminate duplicates from a collection."
      ],
      "metadata": {
        "id": "Hr3koClV3ZwR"
      }
    },
    {
      "cell_type": "markdown",
      "source": [
        "14.How does the “in” keyword work differently for lists and dictionaries?\n",
        "\n",
        "   The \"in\" keyword behaves differently for lists and dictionaries in Python. For lists, it checks if a specified value exists as an element in the list, returning True if the value is found. For dictionaries, the \"in\" keyword checks if a key exists in the dictionary, returning True if the key is present. If you want to check for a value in a dictionary, you need to use the .values() method. Thus, the \"in\" keyword works by checking for elements in lists and keys in dictionaries."
      ],
      "metadata": {
        "id": "HRrQXl5n336x"
      }
    },
    {
      "cell_type": "markdown",
      "source": [
        "15.Can you modify the elements of a tuple? Explain why or why not?\n",
        "\n",
        "  No, you cannot modify the elements of a tuple in Python because tuples are immutable. Once a tuple is created, its contents cannot be changed—this includes adding, removing, or altering elements. The immutability of tuples ensures that their data remains constant throughout the program, making them useful for storing fixed collections of data, like coordinates or constants.\n",
        "\n",
        "If you need a collection of data that can be modified, you should use a list instead, which is mutable and allows changes to its elements"
      ],
      "metadata": {
        "id": "NbXd5iod4FuC"
      }
    },
    {
      "cell_type": "markdown",
      "source": [
        "16.What is a nested dictionary, and give an example of its use case?\n",
        "\n",
        "   A nested dictionary is a dictionary where the values themselves are other dictionaries. This allows you to represent more complex data structures, like hierarchical relationships, by nesting dictionaries within each other. Nested dictionaries are useful when you need to store related information in a structured manner.\n",
        "\n",
        "\n",
        "\n",
        "   example:\n",
        "\n",
        "   A common use case for a nested dictionary is managing a student database where each student has multiple attributes, like their courses and grades.\n",
        "\n",
        "\n",
        "   students = {\n",
        "    \"Alice\": {\"age\": 20, \"courses\": {\"Math\": 90, \"Science\": 85}},\n",
        "    \"Bob\": {\"age\": 22, \"courses\": {\"Math\": 80, \"History\": 88}},\n",
        "    \"Charlie\": {\"age\": 21, \"courses\": {\"English\": 92, \"History\": 87}}\n",
        "}\n",
        "\n",
        " Accessing data in a nested dictionary\n",
        "\n",
        "print(students[\"Alice\"][\"courses\"][\"Math\"])  \n",
        "\n",
        "\n",
        " Output: 90\n"
      ],
      "metadata": {
        "id": "3oXuiCuP4Ohq"
      }
    },
    {
      "cell_type": "markdown",
      "source": [
        "17.Describe the time complexity of accessing elements in a dictionary?\n",
        "\n",
        "   The time complexity of accessing elements in a dictionary in Python is O(1) on average, meaning it takes constant time to look up a value using its key. This is because dictionaries are implemented using hash tables, which allow Python to quickly calculate the location of a key in memory. While the average case is O(1), in rare situations (such as when many keys have the same hash value, causing collisions), the time complexity can increase to O(n), but Python’s efficient collision handling usually keeps performance close to O(1)."
      ],
      "metadata": {
        "id": "hRcO8vvz5CHk"
      }
    },
    {
      "cell_type": "markdown",
      "source": [
        "18. In what situations are lists preferred over dictionaries?\n",
        "\n",
        "   Lists are preferred over dictionaries in situations where the data is ordered, where you need to store duplicate values, or where you need to perform operations that involve maintaining sequence. Lists are ideal when you want to access elements by their position (index), rather than by a unique key. They are also useful when you need to append or modify elements frequently since lists are mutable and support various methods like append(), insert(), and remove(). Lists are better suited for tasks such as iterating over a collection of values, sorting, or maintaining the order of elements, whereas dictionaries are better for tasks involving key-value mapping and fast lookups.\n",
        "\n",
        "For example, when working with a collection of items where the order matters (e.g., a list of students in the order they joined), a list would be the preferred data structure."
      ],
      "metadata": {
        "id": "wqOaAgcr5bZi"
      }
    },
    {
      "cell_type": "markdown",
      "source": [
        "19.Why are dictionaries considered unordered, and how does that affect data retrieval?\n",
        "\n",
        "\n",
        " Dictionaries are considered unordered because the order of key-value pairs is not guaranteed, meaning the position of items in memory can change as elements are added or removed. While Python 3.7 and later versions maintain insertion order as an implementation detail, the primary focus of dictionaries is fast lookups using keys, not the order of elements. This means that when retrieving data, you use a key to access its associated value, and the order in which the items were added does not affect how the data is retrieved. The unordered nature ensures efficient access to data based on keys, not positions."
      ],
      "metadata": {
        "id": "l1tyJb325z6h"
      }
    },
    {
      "cell_type": "markdown",
      "source": [
        "20.Explain the difference between a list and a dictionary in terms of data retrieval?\n",
        "\n",
        "  The main difference between a list and a dictionary in terms of data retrieval lies in how the data is accessed. In a list, you retrieve data using an index, which is based on the position of elements in the list, making it ideal for ordered collections where you need to access items sequentially. In contrast, a dictionary uses a key to retrieve values, allowing for fast access to data based on unique identifiers rather than position. While lists are useful for maintaining order and accessing elements by index, dictionaries are better suited for quickly retrieving data using specific keys.\n",
        "\n",
        "\n",
        "\n",
        "\n",
        "\n",
        "\n"
      ],
      "metadata": {
        "id": "x3xwHS2t6IFy"
      }
    },
    {
      "cell_type": "code",
      "source": [
        "# 1. Write a code to create a string with your name and print it?"
      ],
      "metadata": {
        "id": "RTP_EZ9c6WCy"
      },
      "execution_count": 1,
      "outputs": []
    },
    {
      "cell_type": "code",
      "execution_count": 2,
      "metadata": {
        "colab": {
          "base_uri": "https://localhost:8080/"
        },
        "id": "c_62QDYQvcRP",
        "outputId": "a8e22960-2ad8-43f9-ef21-2c82c27db3d9"
      },
      "outputs": [
        {
          "output_type": "stream",
          "name": "stdout",
          "text": [
            "My name is Alok vijai\n"
          ]
        }
      ],
      "source": [
        "a = \"My name is Alok vijai\"\n",
        "print(a)"
      ]
    },
    {
      "cell_type": "code",
      "source": [
        "# 2.Write a code to find the length of the string \"Hello World\"?"
      ],
      "metadata": {
        "id": "QZDwd_On6tg4"
      },
      "execution_count": 3,
      "outputs": []
    },
    {
      "cell_type": "code",
      "source": [
        "len(\"Hello World\")"
      ],
      "metadata": {
        "colab": {
          "base_uri": "https://localhost:8080/"
        },
        "id": "_h1wTMLJ6xeq",
        "outputId": "7b1db3e2-8d6a-404f-ad34-e91260d3211e"
      },
      "execution_count": 4,
      "outputs": [
        {
          "output_type": "execute_result",
          "data": {
            "text/plain": [
              "11"
            ]
          },
          "metadata": {},
          "execution_count": 4
        }
      ]
    },
    {
      "cell_type": "code",
      "source": [
        "# 3.Write a code to slice the first 3 characters from the string \"Python Programming\"?"
      ],
      "metadata": {
        "id": "PDSKaqbL7AlS"
      },
      "execution_count": 5,
      "outputs": []
    },
    {
      "cell_type": "code",
      "source": [
        "a = \"Python Programming\"\n",
        "a[0:3]"
      ],
      "metadata": {
        "colab": {
          "base_uri": "https://localhost:8080/",
          "height": 36
        },
        "id": "O4gnmFW47FVc",
        "outputId": "9dcf5866-79d9-4ec0-fb23-0e85dbacc4fe"
      },
      "execution_count": 6,
      "outputs": [
        {
          "output_type": "execute_result",
          "data": {
            "text/plain": [
              "'Pyt'"
            ],
            "application/vnd.google.colaboratory.intrinsic+json": {
              "type": "string"
            }
          },
          "metadata": {},
          "execution_count": 6
        }
      ]
    },
    {
      "cell_type": "code",
      "source": [
        "# 4.Write a code to convert the string \"hello\" to uppercase?"
      ],
      "metadata": {
        "id": "meg8aVkF7Rtr"
      },
      "execution_count": 7,
      "outputs": []
    },
    {
      "cell_type": "code",
      "source": [
        "a = \"hello\"\n",
        "a.upper()"
      ],
      "metadata": {
        "colab": {
          "base_uri": "https://localhost:8080/",
          "height": 36
        },
        "id": "gVZVlkS07Ugb",
        "outputId": "21c56e4d-6aad-4409-c605-9db76be74487"
      },
      "execution_count": 8,
      "outputs": [
        {
          "output_type": "execute_result",
          "data": {
            "text/plain": [
              "'HELLO'"
            ],
            "application/vnd.google.colaboratory.intrinsic+json": {
              "type": "string"
            }
          },
          "metadata": {},
          "execution_count": 8
        }
      ]
    },
    {
      "cell_type": "code",
      "source": [
        "# 5.Write a code to replace the word \"apple\" with \"orange\" in the string \"I like apple\"?"
      ],
      "metadata": {
        "id": "j8e-FUCR7hrc"
      },
      "execution_count": 9,
      "outputs": []
    },
    {
      "cell_type": "markdown",
      "source": [],
      "metadata": {
        "id": "47uLyDGo1VYA"
      }
    },
    {
      "cell_type": "code",
      "source": [
        "a = \"I like apple\"\n",
        "a.replace(\"apple\",\"orange\")"
      ],
      "metadata": {
        "colab": {
          "base_uri": "https://localhost:8080/",
          "height": 36
        },
        "id": "pWKGW3v57lu6",
        "outputId": "6959cf89-5f38-4e03-81b3-b39a58d55098"
      },
      "execution_count": 10,
      "outputs": [
        {
          "output_type": "execute_result",
          "data": {
            "text/plain": [
              "'I like orange'"
            ],
            "application/vnd.google.colaboratory.intrinsic+json": {
              "type": "string"
            }
          },
          "metadata": {},
          "execution_count": 10
        }
      ]
    },
    {
      "cell_type": "code",
      "source": [
        "# 6. Write a code to create a list with numbers 1 to 5 and print it"
      ],
      "metadata": {
        "id": "E_zQLK_B7uGD"
      },
      "execution_count": 12,
      "outputs": []
    },
    {
      "cell_type": "code",
      "source": [
        "my_list = list(range(1, 6))\n",
        "my_list"
      ],
      "metadata": {
        "colab": {
          "base_uri": "https://localhost:8080/"
        },
        "id": "LEnJXgrZ8FYc",
        "outputId": "5589e354-6fe2-47b0-dfce-f359cfe377a9"
      },
      "execution_count": 13,
      "outputs": [
        {
          "output_type": "execute_result",
          "data": {
            "text/plain": [
              "[1, 2, 3, 4, 5]"
            ]
          },
          "metadata": {},
          "execution_count": 13
        }
      ]
    },
    {
      "cell_type": "code",
      "source": [
        "# 7.Write a code to append the number 10 to the list [1, 2, 3, 4]?"
      ],
      "metadata": {
        "id": "X_99JqEv8Hvd"
      },
      "execution_count": 14,
      "outputs": []
    },
    {
      "cell_type": "code",
      "source": [
        "a = [1,2,3,4]\n",
        "a.append(10)\n",
        "a"
      ],
      "metadata": {
        "colab": {
          "base_uri": "https://localhost:8080/"
        },
        "id": "VtFwrpAd8Qg8",
        "outputId": "aac5e41f-d7d8-4b2a-b2cd-b10171b4e5d6"
      },
      "execution_count": 15,
      "outputs": [
        {
          "output_type": "execute_result",
          "data": {
            "text/plain": [
              "[1, 2, 3, 4, 10]"
            ]
          },
          "metadata": {},
          "execution_count": 15
        }
      ]
    },
    {
      "cell_type": "code",
      "source": [
        "# 8.Write a code to remove the number 3 from the list [1, 2, 3, 4, 5]?"
      ],
      "metadata": {
        "id": "_NRJVaQS8snm"
      },
      "execution_count": 16,
      "outputs": []
    },
    {
      "cell_type": "code",
      "source": [
        "b = [1,2,3,4,5]\n",
        "b.remove(3)\n",
        "b"
      ],
      "metadata": {
        "colab": {
          "base_uri": "https://localhost:8080/"
        },
        "id": "Alk0Wazi83IF",
        "outputId": "640a04ed-b1a6-47af-f6f4-5890af8473fb"
      },
      "execution_count": 17,
      "outputs": [
        {
          "output_type": "execute_result",
          "data": {
            "text/plain": [
              "[1, 2, 4, 5]"
            ]
          },
          "metadata": {},
          "execution_count": 17
        }
      ]
    },
    {
      "cell_type": "code",
      "source": [
        "# 9.Write a code to access the second element in the list ['a', 'b', 'c', 'd']?"
      ],
      "metadata": {
        "id": "-IM0gDzI8849"
      },
      "execution_count": 19,
      "outputs": []
    },
    {
      "cell_type": "code",
      "source": [
        "my_list = ['a', 'b', 'c', 'd']\n",
        "sec_ele = my_list[1]\n",
        "sec_ele"
      ],
      "metadata": {
        "colab": {
          "base_uri": "https://localhost:8080/",
          "height": 36
        },
        "id": "wDRJEhje9Jel",
        "outputId": "4cdce041-f06d-43f3-8d7c-9300affdd354"
      },
      "execution_count": 20,
      "outputs": [
        {
          "output_type": "execute_result",
          "data": {
            "text/plain": [
              "'b'"
            ],
            "application/vnd.google.colaboratory.intrinsic+json": {
              "type": "string"
            }
          },
          "metadata": {},
          "execution_count": 20
        }
      ]
    },
    {
      "cell_type": "code",
      "source": [
        "# 10.Write a code to reverse the list [10, 20, 30, 40, 50]."
      ],
      "metadata": {
        "id": "xProVOEh9VqO"
      },
      "execution_count": 21,
      "outputs": []
    },
    {
      "cell_type": "code",
      "source": [
        "d = [10, 20, 30, 40, 50]\n",
        "d[::-1]"
      ],
      "metadata": {
        "colab": {
          "base_uri": "https://localhost:8080/"
        },
        "id": "sqDKa4yA9fu9",
        "outputId": "70188e20-fc54-4e93-fde9-2dd46aaa7019"
      },
      "execution_count": 22,
      "outputs": [
        {
          "output_type": "execute_result",
          "data": {
            "text/plain": [
              "[50, 40, 30, 20, 10]"
            ]
          },
          "metadata": {},
          "execution_count": 22
        }
      ]
    },
    {
      "cell_type": "code",
      "source": [
        "# 11.Write a code to create a tuple with the elements 10, 20, 30 and print it."
      ],
      "metadata": {
        "id": "ZaBP62xS9l1t"
      },
      "execution_count": 23,
      "outputs": []
    },
    {
      "cell_type": "code",
      "source": [
        "a = (10,20,30,)\n",
        "print(a)"
      ],
      "metadata": {
        "colab": {
          "base_uri": "https://localhost:8080/"
        },
        "id": "DSPuZewd9v0G",
        "outputId": "ef2099ea-ea4e-4702-9373-7fd64b50168d"
      },
      "execution_count": 25,
      "outputs": [
        {
          "output_type": "stream",
          "name": "stdout",
          "text": [
            "(10, 20, 30)\n"
          ]
        }
      ]
    },
    {
      "cell_type": "code",
      "source": [
        "#12. Write a code to access the first element of the tuple ('apple', 'banana', 'cherry')."
      ],
      "metadata": {
        "id": "T2gQKwni99wm"
      },
      "execution_count": 26,
      "outputs": []
    },
    {
      "cell_type": "code",
      "source": [
        "fruits = ('apple', 'banana', 'cherry')\n",
        "first_element = fruits[0]\n",
        "print(first_element)"
      ],
      "metadata": {
        "colab": {
          "base_uri": "https://localhost:8080/"
        },
        "id": "D_1mi-4y-C82",
        "outputId": "b26b0a36-aba9-4b93-96f3-b90696285383"
      },
      "execution_count": 27,
      "outputs": [
        {
          "output_type": "stream",
          "name": "stdout",
          "text": [
            "apple\n"
          ]
        }
      ]
    },
    {
      "cell_type": "code",
      "source": [
        "#13. Write a code to count how many times the number 2 appears in the tuple (1, 2, 3, 2, 4, 2)."
      ],
      "metadata": {
        "id": "zneQP4iD-K1F"
      },
      "execution_count": 29,
      "outputs": []
    },
    {
      "cell_type": "code",
      "source": [
        "a = (1, 2, 3, 2, 4, 2)\n",
        "count_2 = a.count(2)\n",
        "print(count_2)"
      ],
      "metadata": {
        "colab": {
          "base_uri": "https://localhost:8080/"
        },
        "id": "7bjg5f5--X6R",
        "outputId": "42b49994-9e33-476b-e3f0-0458150b02c5"
      },
      "execution_count": 31,
      "outputs": [
        {
          "output_type": "stream",
          "name": "stdout",
          "text": [
            "3\n"
          ]
        }
      ]
    },
    {
      "cell_type": "code",
      "source": [
        "# 14.Write a code to find the index of the element \"cat\" in the tuple ('dog', 'cat', 'rabbit')."
      ],
      "metadata": {
        "id": "cgADXHKx-fGW"
      },
      "execution_count": 32,
      "outputs": []
    },
    {
      "cell_type": "code",
      "source": [
        "pets = ('dog', 'cat', 'rabbit')\n",
        "cat_index = pets.index('cat')\n",
        "print(cat_index)"
      ],
      "metadata": {
        "colab": {
          "base_uri": "https://localhost:8080/"
        },
        "id": "KmhEqS5G-rkm",
        "outputId": "1c37a108-cad4-48ea-9a6c-efa390ac98a4"
      },
      "execution_count": 33,
      "outputs": [
        {
          "output_type": "stream",
          "name": "stdout",
          "text": [
            "1\n"
          ]
        }
      ]
    },
    {
      "cell_type": "code",
      "source": [
        "# 15.Write a code to check if the element \"banana\" is in the tuple ('apple', 'orange', 'banana')."
      ],
      "metadata": {
        "id": "jSOb2DU8-1-_"
      },
      "execution_count": 34,
      "outputs": []
    },
    {
      "cell_type": "code",
      "source": [
        "fruits = ('apple', 'orange', 'banana')\n",
        "'banana' in fruits\n",
        "\n"
      ],
      "metadata": {
        "colab": {
          "base_uri": "https://localhost:8080/"
        },
        "id": "KsxGSy9T--Q2",
        "outputId": "46d5ef05-83ca-48d2-c311-68d0d2c75f4f"
      },
      "execution_count": 36,
      "outputs": [
        {
          "output_type": "execute_result",
          "data": {
            "text/plain": [
              "True"
            ]
          },
          "metadata": {},
          "execution_count": 36
        }
      ]
    },
    {
      "cell_type": "code",
      "source": [
        "# 16. Write a code to create a set with the elements 1, 2, 3, 4, 5 and print it."
      ],
      "metadata": {
        "id": "_Lrx4Qsa_QFv"
      },
      "execution_count": 37,
      "outputs": []
    },
    {
      "cell_type": "code",
      "source": [
        "s = {1,2,3,4,5}\n",
        "s"
      ],
      "metadata": {
        "colab": {
          "base_uri": "https://localhost:8080/"
        },
        "id": "-QrbGSEl_fDo",
        "outputId": "04090581-6416-4530-b7b6-cb13c1581849"
      },
      "execution_count": 39,
      "outputs": [
        {
          "output_type": "execute_result",
          "data": {
            "text/plain": [
              "{1, 2, 3, 4, 5}"
            ]
          },
          "metadata": {},
          "execution_count": 39
        }
      ]
    },
    {
      "cell_type": "code",
      "source": [
        "# 17.Write a code to add the element 6 to the set {1, 2, 3, 4}."
      ],
      "metadata": {
        "id": "5oFHLfoy_psf"
      },
      "execution_count": 41,
      "outputs": []
    },
    {
      "cell_type": "code",
      "source": [
        "s = {1, 2, 3, 4}\n",
        "s.add(6)\n",
        "s"
      ],
      "metadata": {
        "colab": {
          "base_uri": "https://localhost:8080/"
        },
        "id": "qdGGSAJQ_1IP",
        "outputId": "17e2ae45-1587-4aa7-a0cd-1b1f9093085d"
      },
      "execution_count": 42,
      "outputs": [
        {
          "output_type": "execute_result",
          "data": {
            "text/plain": [
              "{1, 2, 3, 4, 6}"
            ]
          },
          "metadata": {},
          "execution_count": 42
        }
      ]
    },
    {
      "cell_type": "code",
      "source": [
        "# 18.Write a code to create a tuple with the elements 10, 20, 30 and print it"
      ],
      "metadata": {
        "id": "pWcynh4I_8Ov"
      },
      "execution_count": 43,
      "outputs": []
    },
    {
      "cell_type": "code",
      "source": [
        "a = (10,20,30)\n",
        "print(a)"
      ],
      "metadata": {
        "colab": {
          "base_uri": "https://localhost:8080/"
        },
        "id": "LqAf1d6_AWwi",
        "outputId": "9eb6e12d-4b58-4b0c-8c06-3b87f41452fc"
      },
      "execution_count": 44,
      "outputs": [
        {
          "output_type": "stream",
          "name": "stdout",
          "text": [
            "(10, 20, 30)\n"
          ]
        }
      ]
    },
    {
      "cell_type": "code",
      "source": [
        "# 19.Write a code to access the first element of the tuple ('apple', 'banana', 'cherry')"
      ],
      "metadata": {
        "id": "i9nmWZmYAdBh"
      },
      "execution_count": 45,
      "outputs": []
    },
    {
      "cell_type": "code",
      "source": [
        "fruits = ('apple', 'banana', 'cherry')\n",
        "first_element = fruits[0]\n",
        "print(first_element)"
      ],
      "metadata": {
        "colab": {
          "base_uri": "https://localhost:8080/"
        },
        "id": "2lef7-8bAqVK",
        "outputId": "ca0f782c-f6b8-4dd5-9bc1-b48b95e77eea"
      },
      "execution_count": 46,
      "outputs": [
        {
          "output_type": "stream",
          "name": "stdout",
          "text": [
            "apple\n"
          ]
        }
      ]
    },
    {
      "cell_type": "code",
      "source": [
        "# 20.Write a code to count how many times the number 2 appears in the tuple (1, 2, 3, 2, 4, 2)"
      ],
      "metadata": {
        "id": "k1JzV_mGAvfZ"
      },
      "execution_count": 47,
      "outputs": []
    },
    {
      "cell_type": "code",
      "source": [
        "a = (1, 2, 3, 2, 4, 2)\n",
        "count_2 = a.count(2)\n",
        "print(count_2)"
      ],
      "metadata": {
        "colab": {
          "base_uri": "https://localhost:8080/"
        },
        "id": "-1eNGKn-A5Ua",
        "outputId": "a1810994-f950-439b-c540-3d3051bbded9"
      },
      "execution_count": 49,
      "outputs": [
        {
          "output_type": "stream",
          "name": "stdout",
          "text": [
            "3\n"
          ]
        }
      ]
    },
    {
      "cell_type": "code",
      "source": [
        "# 21.Write a code to find the index of the element \"cat\" in the tuple ('dog', 'cat', 'rabbit')."
      ],
      "metadata": {
        "id": "Sw59fghUA7Xo"
      },
      "execution_count": 50,
      "outputs": []
    },
    {
      "cell_type": "code",
      "source": [
        "pets = ('dog', 'cat', 'rabbit')\n",
        "cat_index = pets.index('cat')\n",
        "print(cat_index)"
      ],
      "metadata": {
        "colab": {
          "base_uri": "https://localhost:8080/"
        },
        "id": "KlqcYiiFBCsE",
        "outputId": "6d572a29-61b9-4a11-dc38-235d73c3274d"
      },
      "execution_count": 51,
      "outputs": [
        {
          "output_type": "stream",
          "name": "stdout",
          "text": [
            "1\n"
          ]
        }
      ]
    },
    {
      "cell_type": "code",
      "source": [
        "# 22.Write a code to check if the element \"banana\" is in the tuple ('apple', 'orange', 'banana')."
      ],
      "metadata": {
        "id": "sZhpqIJ0BHBP"
      },
      "execution_count": 52,
      "outputs": []
    },
    {
      "cell_type": "code",
      "source": [
        "fruits = ('apple', 'orange', 'banana')\n",
        "'banana' in fruits"
      ],
      "metadata": {
        "colab": {
          "base_uri": "https://localhost:8080/"
        },
        "id": "1kiGBCLEBOF5",
        "outputId": "4f7af41a-60be-4e6e-d2e7-cdbaa6c8d201"
      },
      "execution_count": 53,
      "outputs": [
        {
          "output_type": "execute_result",
          "data": {
            "text/plain": [
              "True"
            ]
          },
          "metadata": {},
          "execution_count": 53
        }
      ]
    },
    {
      "cell_type": "code",
      "source": [
        "# 23.Write a code to create a set with the elements 1, 2, 3, 4, 5 and print it"
      ],
      "metadata": {
        "id": "rBP6POpEBRqJ"
      },
      "execution_count": 54,
      "outputs": []
    },
    {
      "cell_type": "code",
      "source": [
        "s = {1,2,3,4,5}\n",
        "print(s)"
      ],
      "metadata": {
        "colab": {
          "base_uri": "https://localhost:8080/"
        },
        "id": "yuSx52i1BYrc",
        "outputId": "d6de97d9-ef66-4331-993a-f5f8e63b4336"
      },
      "execution_count": 55,
      "outputs": [
        {
          "output_type": "stream",
          "name": "stdout",
          "text": [
            "{1, 2, 3, 4, 5}\n"
          ]
        }
      ]
    },
    {
      "cell_type": "code",
      "source": [
        "# 24.Write a code to add the element 6 to the set {1, 2, 3, 4}."
      ],
      "metadata": {
        "id": "tjyoEtdvBdpp"
      },
      "execution_count": 56,
      "outputs": []
    },
    {
      "cell_type": "code",
      "source": [
        "a = {1,2,3,4}\n",
        "a.add(6)\n",
        "a"
      ],
      "metadata": {
        "colab": {
          "base_uri": "https://localhost:8080/"
        },
        "id": "HFlm8yuPBjhS",
        "outputId": "a78ac71d-71a7-42e1-97c4-c105434c7208"
      },
      "execution_count": 57,
      "outputs": [
        {
          "output_type": "execute_result",
          "data": {
            "text/plain": [
              "{1, 2, 3, 4, 6}"
            ]
          },
          "metadata": {},
          "execution_count": 57
        }
      ]
    },
    {
      "cell_type": "code",
      "source": [],
      "metadata": {
        "id": "hfsBBPghBrRJ"
      },
      "execution_count": null,
      "outputs": []
    }
  ]
}